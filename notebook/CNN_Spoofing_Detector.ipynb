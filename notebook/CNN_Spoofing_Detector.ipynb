{
 "cells": [
  {
   "cell_type": "markdown",
   "id": "100c4a65-108e-4a93-aa0f-82a227ad0fe2",
   "metadata": {},
   "source": [
    "# Convolutional Neural Network Model for Detecting Spoofed Aircraft\n",
    "### Purpose: This notebook creates a Convolutional Neural Network capable of detecting spoofed aircraft. It was trained using a training data set of pre-generated spoofed aircraft alongside a dataset of valid ADS-B records. It outputs a binary classification (spoofed or not) for a plane alongside confidence level. "
   ]
  },
  {
   "cell_type": "code",
   "execution_count": 1,
   "id": "2ba366af-a0d0-49f8-9339-12300e70e77a",
   "metadata": {},
   "outputs": [
    {
     "name": "stderr",
     "output_type": "stream",
     "text": [
      "2023-11-24 12:15:48.172556: I tensorflow/core/platform/cpu_feature_guard.cc:182] This TensorFlow binary is optimized to use available CPU instructions in performance-critical operations.\n",
      "To enable the following instructions: AVX2 FMA, in other operations, rebuild TensorFlow with the appropriate compiler flags.\n"
     ]
    },
    {
     "name": "stdout",
     "output_type": "stream",
     "text": [
      "Datasets imported!\n"
     ]
    }
   ],
   "source": [
    "import json\n",
    "import numpy as np\n",
    "import tensorflow as tf\n",
    "from sklearn.model_selection import train_test_split\n",
    "\n",
    "# Valid data parsing first\n",
    "with open('./samples/valid/aircraft_valid.json') as json_file:\n",
    "    data_valid = json.load(json_file)\n",
    "    \n",
    "# Parse spoofed data\n",
    "with open('./samples/spoofed/aircraft_spoofed.json') as json_file:\n",
    "    data_spoofed = json.load(json_file)\n",
    " \n",
    "aircraft_data_valid = data_valid['aircraft']\n",
    "aircraft_data_spoofed = data_spoofed['aircraft']\n",
    "\n",
    "print(\"Datasets imported!\")"
   ]
  },
  {
   "cell_type": "markdown",
   "id": "8b2beafe-d007-40eb-9427-f903e02dd849",
   "metadata": {},
   "source": [
    "# Process JSON Files Containing Data"
   ]
  },
  {
   "cell_type": "markdown",
   "id": "dd5911ed-90fb-48ab-a154-49bb1e90e070",
   "metadata": {},
   "source": [
    "# Prepare Dataset to be Placed into Neural Network\n",
    "### Split into Training and Testing Sets"
   ]
  },
  {
   "cell_type": "code",
   "execution_count": 16,
   "id": "d22f63f4-1119-49b6-ba2c-214c94315343",
   "metadata": {},
   "outputs": [],
   "source": [
    "# Define a function to preprocess the data\n",
    "def preprocess_data(data):\n",
    "    features = []\n",
    "    labels = []\n",
    "\n",
    "    for aircraft in data:\n",
    "        try:\n",
    "            feature_vector = [\n",
    "                handle_alt_baro(aircraft.get('alt_baro', 0)),\n",
    "                float(aircraft.get('gs', 0)),\n",
    "                float(aircraft.get('track', 0)),\n",
    "                float(aircraft.get('baro_rate', 0)),\n",
    "                float(aircraft.get('lat', 0)),\n",
    "                float(aircraft.get('lon', 0)),\n",
    "                float(aircraft.get('seen_pos', 0)),\n",
    "                float(aircraft.get('messages', 0)),\n",
    "                float(aircraft.get('seen', 0)),\n",
    "                float(aircraft.get('rssi', 0)),\n",
    "            ]\n",
    "            features.append(feature_vector)\n",
    "            labels.append(1 if aircraft.get('is_spoofed', False) else 0)\n",
    "        except ValueError as e:\n",
    "            # Handle the case where a non-numeric value is encountered\n",
    "            print(f\"Ignoring data point due to non-numeric value: {aircraft}, Field {e}\")\n",
    "\n",
    "    return np.array(features), np.array(labels)\n",
    "\n",
    "def handle_alt_baro(alt_baro):\n",
    "    if alt_baro == \"ground\":\n",
    "        return 0.0\n",
    "    else:\n",
    "        return alt_baro\n",
    "    \n",
    "model = tf.keras.Sequential([\n",
    "    tf.keras.layers.Dense(64, activation='relu', input_shape=(10,)),\n",
    "    tf.keras.layers.Dense(32, activation='relu'),\n",
    "    tf.keras.layers.Dense(1, activation='sigmoid')\n",
    "])\n",
    "\n",
    "# Compile the model\n",
    "model.compile(optimizer='adam', loss='binary_crossentropy', metrics=['accuracy'])"
   ]
  },
  {
   "cell_type": "code",
   "execution_count": 17,
   "id": "618907a0-3aa6-4412-a0ea-5dd3bf94b063",
   "metadata": {},
   "outputs": [
    {
     "name": "stdout",
     "output_type": "stream",
     "text": [
      "[[ 1.728100e+04  8.700000e+02  1.880000e+02 ...  9.970000e+02\n",
      "   1.790000e+02 -1.100000e+02]\n",
      " [ 1.981200e+04  1.610000e+02  7.800000e+01 ...  2.500000e+01\n",
      "   5.130000e+02 -2.060000e+02]\n",
      " [ 2.134300e+04  6.660000e+02  8.700000e+01 ...  8.920000e+02\n",
      "   4.380000e+02 -2.460000e+02]\n",
      " ...\n",
      " [ 0.000000e+00  0.000000e+00  0.000000e+00 ...  1.237000e+03\n",
      "   2.700000e+01 -2.720000e+01]\n",
      " [ 0.000000e+00  0.000000e+00  0.000000e+00 ...  3.617607e+06\n",
      "   2.190000e+01 -1.290000e+01]\n",
      " [ 0.000000e+00  0.000000e+00  0.000000e+00 ...  6.101024e+06\n",
      "   5.300000e+00 -4.300000e+00]] [1 1 1 ... 0 0 0]\n"
     ]
    }
   ],
   "source": [
    "spoofed_features, spoofed_labels = preprocess_data(aircraft_data_spoofed)\n",
    "not_spoofed_features, not_spoofed_labels = preprocess_data(aircraft_data_valid)\n",
    "\n",
    "# Combine the data\n",
    "all_features = np.vstack([spoofed_features, not_spoofed_features])\n",
    "all_labels = np.concatenate([spoofed_labels, not_spoofed_labels])\n",
    "\n",
    "print(all_features, all_labels)"
   ]
  },
  {
   "cell_type": "code",
   "execution_count": 18,
   "id": "f3913f2a-4f57-4729-a606-9dc52f583262",
   "metadata": {},
   "outputs": [
    {
     "name": "stdout",
     "output_type": "stream",
     "text": [
      "Epoch 1/10\n",
      "169/169 [==============================] - 1s 3ms/step - loss: 41277.1992 - accuracy: 0.9337 - val_loss: 0.4110 - val_accuracy: 0.9970\n",
      "Epoch 2/10\n",
      "169/169 [==============================] - 0s 2ms/step - loss: 2.8839 - accuracy: 0.9972 - val_loss: 0.4435 - val_accuracy: 0.9970\n",
      "Epoch 3/10\n",
      "169/169 [==============================] - 0s 2ms/step - loss: 1.8332 - accuracy: 0.9978 - val_loss: 0.3570 - val_accuracy: 0.9970\n",
      "Epoch 4/10\n",
      "169/169 [==============================] - 0s 2ms/step - loss: 1.0547 - accuracy: 0.9974 - val_loss: 0.1169 - val_accuracy: 0.9985\n",
      "Epoch 5/10\n",
      "169/169 [==============================] - 0s 2ms/step - loss: 1.2598 - accuracy: 0.9981 - val_loss: 1.1113 - val_accuracy: 0.9963\n",
      "Epoch 6/10\n",
      "169/169 [==============================] - 0s 2ms/step - loss: 0.2978 - accuracy: 0.9983 - val_loss: 2.8358 - val_accuracy: 0.9963\n",
      "Epoch 7/10\n",
      "169/169 [==============================] - 0s 2ms/step - loss: 2.2605 - accuracy: 0.9981 - val_loss: 0.0055 - val_accuracy: 0.9970\n",
      "Epoch 8/10\n",
      "169/169 [==============================] - 0s 2ms/step - loss: 0.8442 - accuracy: 0.9974 - val_loss: 0.1184 - val_accuracy: 0.9993\n",
      "Epoch 9/10\n",
      "169/169 [==============================] - 0s 2ms/step - loss: 0.1912 - accuracy: 0.9985 - val_loss: 3.4271e-05 - val_accuracy: 1.0000\n",
      "Epoch 10/10\n",
      "169/169 [==============================] - 0s 2ms/step - loss: 0.5014 - accuracy: 0.9989 - val_loss: 3.0118 - val_accuracy: 0.9963\n",
      "53/53 [==============================] - 0s 1ms/step - loss: 0.8506 - accuracy: 0.9988\n",
      "Test accuracy: 0.9988158941268921\n"
     ]
    }
   ],
   "source": [
    "# Split the data into training and testing sets\n",
    "X_train, X_test, y_train, y_test = train_test_split(all_features, all_labels, test_size=0.2, random_state=42)\n",
    "\n",
    "# Train the model\n",
    "model.fit(X_train, y_train, epochs=10, batch_size=32, validation_split=0.2)\n",
    "\n",
    "# Evaluate the model on the test set\n",
    "test_loss, test_acc = model.evaluate(X_test, y_test)\n",
    "print(f'Test accuracy: {test_acc}')"
   ]
  },
  {
   "cell_type": "code",
   "execution_count": 19,
   "id": "a8522a28-dfb7-455e-8665-d663ac9e2ddd",
   "metadata": {},
   "outputs": [
    {
     "name": "stderr",
     "output_type": "stream",
     "text": [
      "/usr/local/lib/python3.11/site-packages/keras/src/engine/training.py:3000: UserWarning: You are saving your model as an HDF5 file via `model.save()`. This file format is considered legacy. We recommend using instead the native Keras format, e.g. `model.save('my_model.keras')`.\n",
      "  saving_api.save_model(\n"
     ]
    },
    {
     "name": "stdout",
     "output_type": "stream",
     "text": [
      "Model saved to Spoof_Detection.h5!\n"
     ]
    }
   ],
   "source": [
    "model_name = \"Spoof_Detection.h5\"\n",
    "model.save(model_name)\n",
    "print(f\"Model saved to {model_name}!\")"
   ]
  },
  {
   "cell_type": "markdown",
   "id": "7493bd3c-b1da-4219-bb79-c56dbed879e5",
   "metadata": {},
   "source": [
    "# References and Resources\n",
    "#### [Reference dump1090 README](https://github.com/SDRplay/dump1090/blob/master/README-json.md)\n",
    "#### [Data Samples from ADSB Exchange](https://www.adsbexchange.com/data-samples/)\n",
    "#### [2022 Data Sample from ADSB Exchange](https://samples.adsbexchange.com/readsb-hist/2022/05/01/)\n",
    "#### [ADSB Exchange API](https://www.adsbexchange.com/version-2-api-wip/)\n",
    "#### [Raspberry Pi & FlightAware Setup](https://elmwoodelectronics.ca/blogs/news/tracking-and-logging-flights-with-ads-b-flight-aware-and-raspberry-pi)\n",
    "#### [IEEE Research on ADS-B Signals](https://ieeexplore.ieee.org/document/9377975)"
   ]
  }
 ],
 "metadata": {
  "kernelspec": {
   "display_name": "Python 3 (ipykernel)",
   "language": "python",
   "name": "python3"
  },
  "language_info": {
   "codemirror_mode": {
    "name": "ipython",
    "version": 3
   },
   "file_extension": ".py",
   "mimetype": "text/x-python",
   "name": "python",
   "nbconvert_exporter": "python",
   "pygments_lexer": "ipython3",
   "version": "3.11.3"
  }
 },
 "nbformat": 4,
 "nbformat_minor": 5
}

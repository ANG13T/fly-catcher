{
 "cells": [
  {
   "cell_type": "markdown",
   "id": "97a93c03-51e4-4428-a509-57a8bd280355",
   "metadata": {},
   "source": [
    "# Script for Generating Spoofed Aircraft JSON Data\n",
    "### Purpose: The intention of this notebook is to create a training dataset of spoofed aircraft for the CNN model to classify between spoofed and valid aircraft"
   ]
  },
  {
   "cell_type": "code",
   "execution_count": 5,
   "id": "1ff0eebd-ce88-4d6f-aa65-45fd6f05e19c",
   "metadata": {},
   "outputs": [
    {
     "name": "stdout",
     "output_type": "stream",
     "text": [
      "Spoofed aircraft:  [{'hex': 'C0A3CF', 'type': 'adsc', 'flight': 'H8NN', 'r': '6E79GF', 't': 'UH1', 'alt_baro': 17281, 'gs': 870, 'track': 188, 'baro_rate': 1465.4328757031271, 'lat': -82.20110984638373, 'lon': -148.9643432613112, 'nic': 0, 'rc': 0, 'seen_pos': 15, 'mlat': [], 'tisb': [], 'messages': 997, 'seen': 179, 'rssi': -110, 'is_spoofed': True}, {'hex': '4072E6', 'type': 'adsc', 'flight': '11T2', 'r': 'EC3RQ2', 't': 'Jetstream 41', 'alt_baro': 19812, 'gs': 161, 'track': 78, 'baro_rate': 555.048386068258, 'lat': -15.388080683208742, 'lon': -137.53870556220167, 'nic': 0, 'rc': 0, 'seen_pos': 0, 'mlat': [], 'tisb': [], 'messages': 25, 'seen': 513, 'rssi': -206, 'is_spoofed': True}, {'hex': '7B0A2F', 'type': 'adsc', 'flight': '57VU', 'r': 'R6JTG5', 't': 'MD80', 'alt_baro': 21343, 'gs': 666, 'track': 87, 'baro_rate': -1196.6777871818617, 'lat': -8.012219365289468, 'lon': 90.20150338914311, 'nic': 0, 'rc': 0, 'seen_pos': 28, 'mlat': [], 'tisb': [], 'messages': 892, 'seen': 438, 'rssi': -246, 'is_spoofed': True}, {'hex': 'CA86A2', 'type': 'adsc', 'flight': 'T594', 'r': 'Q8JORH', 't': 'MD80', 'alt_baro': 28228, 'gs': 847, 'track': 340, 'baro_rate': -696.2143129824083, 'lat': -47.155881170566744, 'lon': -74.26693825219621, 'nic': 0, 'rc': 0, 'seen_pos': 0, 'mlat': [], 'tisb': [], 'messages': 582, 'seen': 784, 'rssi': -248, 'is_spoofed': True}, {'hex': '7F7BEA', 'type': 'adsc', 'flight': '7BLY', 'r': 'QRHUSC', 't': 'TBM9', 'alt_baro': 18646, 'gs': 399, 'track': 30, 'baro_rate': 858.3617443329836, 'lat': 26.373856846453677, 'lon': -177.36028007957975, 'nic': 0, 'rc': 0, 'seen_pos': 19, 'mlat': [], 'tisb': [], 'messages': 47, 'seen': 653, 'rssi': -235, 'is_spoofed': True}, {'hex': 'DF13AB', 'type': 'adsc', 'flight': 'PJXF', 'r': 'NFH8MV', 't': 'HA4T', 'alt_baro': 1311, 'gs': 693, 'track': 56, 'baro_rate': 559.7417613722396, 'lat': 53.18704975570674, 'lon': -41.953720666950005, 'nic': 0, 'rc': 0, 'seen_pos': 1, 'mlat': [], 'tisb': [], 'messages': 199, 'seen': 123, 'rssi': -232, 'is_spoofed': True}, {'hex': 'D56E55', 'type': 'adsc', 'flight': '9NL5', 'r': 'QLTMYO', 't': 'B777', 'alt_baro': 11067, 'gs': 325, 'track': 257, 'baro_rate': -603.0963089761747, 'lat': -60.330269801882764, 'lon': -98.21569646013367, 'nic': 0, 'rc': 0, 'seen_pos': 24, 'mlat': [], 'tisb': [], 'messages': 164, 'seen': 900, 'rssi': -231, 'is_spoofed': True}, {'hex': '4D504E', 'type': 'adsc', 'flight': 'ZBXX', 'r': 'XRDWQG', 't': 'G650', 'alt_baro': 28364, 'gs': 194, 'track': 140, 'baro_rate': 918.0504481701182, 'lat': -76.46240920940839, 'lon': -149.00949174994614, 'nic': 0, 'rc': 0, 'seen_pos': 1, 'mlat': [], 'tisb': [], 'messages': 606, 'seen': 317, 'rssi': -207, 'is_spoofed': True}, {'hex': 'CC7ACD', 'type': 'adsc', 'flight': 'UUUP', 'r': '8US6BR', 't': 'Yak52', 'alt_baro': 37380, 'gs': 742, 'track': 265, 'baro_rate': 1741.753036628139, 'lat': 34.793428270756124, 'lon': 94.65875657584894, 'nic': 0, 'rc': 0, 'seen_pos': 14, 'mlat': [], 'tisb': [], 'messages': 347, 'seen': 766, 'rssi': -241, 'is_spoofed': True}, {'hex': 'C35328', 'type': 'adsc', 'flight': 'G8IO', 'r': 'VA5FL0', 't': 'JS41', 'alt_baro': 36517, 'gs': 560, 'track': 139, 'baro_rate': 1734.4549421189145, 'lat': 16.982231399791615, 'lon': 149.93238843819455, 'nic': 0, 'rc': 0, 'seen_pos': 9, 'mlat': [], 'tisb': [], 'messages': 438, 'seen': 508, 'rssi': -212, 'is_spoofed': True}, {'hex': 'D3AE2E', 'type': 'adsc', 'flight': '26V2', 'r': 'KTHL7M', 't': 'F22', 'alt_baro': 25571, 'gs': 30, 'track': 274, 'baro_rate': -792.1182247515453, 'lat': 20.829059104153956, 'lon': -75.87498679298366, 'nic': 0, 'rc': 0, 'seen_pos': 8, 'mlat': [], 'tisb': [], 'messages': 596, 'seen': 380, 'rssi': -144, 'is_spoofed': True}, {'hex': 'FC4407', 'type': 'adsc', 'flight': 'H6JQ', 'r': 'C4U1VL', 't': 'Jetstream 41', 'alt_baro': 13074, 'gs': 270, 'track': 323, 'baro_rate': -1288.3599828544518, 'lat': 70.49771619570075, 'lon': 113.39755494650461, 'nic': 0, 'rc': 0, 'seen_pos': 2, 'mlat': [], 'tisb': [], 'messages': 319, 'seen': 468, 'rssi': -226, 'is_spoofed': True}, {'hex': 'D23668', 'type': 'adsc', 'flight': 'L92X', 'r': '31EFZR', 't': 'B737', 'alt_baro': 30755, 'gs': 28, 'track': 353, 'baro_rate': 1870.3492951524136, 'lat': 16.892654304467385, 'lon': -0.25248282145071244, 'nic': 0, 'rc': 0, 'seen_pos': 13, 'mlat': [], 'tisb': [], 'messages': 27, 'seen': 239, 'rssi': -82, 'is_spoofed': True}, {'hex': 'C7B52C', 'type': 'adsc', 'flight': 'MEGD', 'r': 'ERSIFO', 't': 'Jetstream 41', 'alt_baro': 5477, 'gs': 399, 'track': 69, 'baro_rate': 582.6199142911241, 'lat': 61.547462998484775, 'lon': -79.665432637131, 'nic': 0, 'rc': 0, 'seen_pos': 17, 'mlat': [], 'tisb': [], 'messages': 17, 'seen': 923, 'rssi': -198, 'is_spoofed': True}, {'hex': 'E8566D', 'type': 'adsc', 'flight': '1GUN', 'r': '80GBST', 't': 'DHC6', 'alt_baro': 25975, 'gs': 728, 'track': 247, 'baro_rate': -358.77203543035967, 'lat': -69.1584503539903, 'lon': -95.84826259060652, 'nic': 0, 'rc': 0, 'seen_pos': 18, 'mlat': [], 'tisb': [], 'messages': 838, 'seen': 380, 'rssi': -7, 'is_spoofed': True}, {'hex': '99EE7F', 'type': 'adsc', 'flight': '5A4T', 'r': 'VHCN47', 't': 'XT6', 'alt_baro': 23199, 'gs': 518, 'track': 351, 'baro_rate': -615.8706049476118, 'lat': -27.289475956506244, 'lon': 66.55137916924122, 'nic': 0, 'rc': 0, 'seen_pos': 29, 'mlat': [], 'tisb': [], 'messages': 815, 'seen': 881, 'rssi': -215, 'is_spoofed': True}, {'hex': '055D6B', 'type': 'adsc', 'flight': '8KM8', 'r': '3V9EZW', 't': 'JS41', 'alt_baro': 23788, 'gs': 463, 'track': 293, 'baro_rate': -684.13417808641, 'lat': 69.29048149399054, 'lon': 123.74255242783875, 'nic': 0, 'rc': 0, 'seen_pos': 28, 'mlat': [], 'tisb': [], 'messages': 35, 'seen': 650, 'rssi': -105, 'is_spoofed': True}, {'hex': '4EFF21', 'type': 'adsc', 'flight': 'MW77', 'r': 'M7BUL4', 't': 'Q400', 'alt_baro': 6687, 'gs': 109, 'track': 38, 'baro_rate': 596.2631790373289, 'lat': -1.2105189716030083, 'lon': -71.27604399573033, 'nic': 0, 'rc': 0, 'seen_pos': 27, 'mlat': [], 'tisb': [], 'messages': 803, 'seen': 979, 'rssi': -55, 'is_spoofed': True}, {'hex': '452DA0', 'type': 'adsc', 'flight': 'MP3X', 'r': '09YP4F', 't': 'B767', 'alt_baro': 39254, 'gs': 435, 'track': 217, 'baro_rate': 680.9742423384073, 'lat': -51.32102398359717, 'lon': -98.0905379709336, 'nic': 0, 'rc': 0, 'seen_pos': 6, 'mlat': [], 'tisb': [], 'messages': 206, 'seen': 947, 'rssi': -237, 'is_spoofed': True}, {'hex': '65A466', 'type': 'adsc', 'flight': 'HSQ7', 'r': '325YKV', 't': 'B747', 'alt_baro': 3241, 'gs': 523, 'track': 147, 'baro_rate': -42.7655594646028, 'lat': 31.771682428807864, 'lon': -71.27306912290254, 'nic': 0, 'rc': 0, 'seen_pos': 3, 'mlat': [], 'tisb': [], 'messages': 73, 'seen': 152, 'rssi': -96, 'is_spoofed': True}]\n",
      "Wrote Spoofed Data into ./samples/spoofed/aircraft_spoofed.json!\n"
     ]
    }
   ],
   "source": [
    "# Script for Generating Random Spoofed Aircraft\n",
    "import random\n",
    "import string\n",
    "import json\n",
    "\n",
    "def generate_registration_id():\n",
    "    # create a list of possible characters for the registration ID\n",
    "    characters = list(\"ABCDEFGHIJKLMNOPQRSTUVWXYZ0123456789\")\n",
    "    # shuffle the list of characters\n",
    "    random.shuffle(characters)\n",
    "    # take the first 3 characters as the prefix\n",
    "    prefix = \"\".join(characters[:3])\n",
    "    # take the next 3 characters as the suffix\n",
    "    suffix = \"\".join(characters[3:6])\n",
    "    # return the concatenated prefix and suffix as the registration ID\n",
    "    return prefix + suffix\n",
    "\n",
    "def generate_aircraft_type():\n",
    "    # create a list of possible aircraft types\n",
    "    aircraft_types = [\n",
    "        \"A320\", \"A321\", \"A330\", \"A340\", \"A350\", \"A380\",\n",
    "        \"B737\", \"B747\", \"B757\", \"B767\", \"B777\", \"B787\",\n",
    "        \"C172\", \"C208\", \"Cessna Citation X\",\n",
    "        \"DHC6\", \"DHC8\",\n",
    "        \"ERJ145\", \"ERJ170\", \"ERJ190\",\n",
    "        \"F22\", \"F35\", \"F16\", \"F18\",\n",
    "        \"G650\",\n",
    "        \"HA4T\",\n",
    "        \"IL76\", \"IL96\",\n",
    "        \"JS41\", \"Jetstream 41\",\n",
    "        \"MD11\", \"MD80\", \"MD90\",\n",
    "        \"P180\", \"P2006T\",\n",
    "        \"Q400\", \"Q400X\",\n",
    "        \"RJ100\", \"RJ85\",\n",
    "        \"S76\", \"S92\",\n",
    "        \"TBM9\", \"TBM9\",\n",
    "        \"UH1\", \"UH60\",\n",
    "        \"V22\", \"V35\", \"V50\",\n",
    "        \"XCub\", \"XT6\",\n",
    "        \"Yak40\", \"Yak52\",\n",
    "        \"Zlin\", \"Zlin242\"\n",
    "    ]\n",
    "    # return a random aircraft type from the list\n",
    "    return random.choice(aircraft_types)\n",
    "\n",
    "def generate_spoofed_aircraft(n):\n",
    "    # create a list of spoofed aircraft objects\n",
    "    # reference: https://www.adsbexchange.com/version-2-api-wip/\n",
    "    spoofed_aircraft = []\n",
    "    for i in range(n):\n",
    "        hex = ''.join(random.choices('0123456789ABCDEF', k=6))\n",
    "        flight = ''.join(random.choices(string.ascii_uppercase + string.digits, k=4))\n",
    "        lat = random.uniform(-90, 90)\n",
    "        type_aircraft = generate_aircraft_type()\n",
    "        aircraft_reg = generate_registration_id()\n",
    "        lon = random.uniform(-180, 180)\n",
    "        alt = random.randint(0, 40000)\n",
    "        spd = random.randint(0, 1000)\n",
    "        gs = random.randint(0, 1000)\n",
    "        seen_pos = random.randint(0, 30)\n",
    "        trk = random.randint(0, 360)\n",
    "        baro_rate = random.uniform(-2000, 2000)\n",
    "        vrt = random.randint(-1000, 1000)\n",
    "        msgs = random.randint(0, 1000)\n",
    "        seen = random.randint(0, 1000)\n",
    "        rssi = random.randint(-255,0)\n",
    "        spoofed_aircraft.append({\"hex\": hex, \"type\":\"adsc\", \"flight\": flight, \"r\": aircraft_reg, \"t\": type_aircraft, \"alt_baro\": alt, \"gs\": gs, \"track\": trk, \"baro_rate\": baro_rate, \"lat\": lat, \"lon\": lon, \"nic\":0, \"rc\":0, \"seen_pos\": seen_pos,\"mlat\":[],\"tisb\":[],\"messages\": msgs, \"seen\": seen, \"rssi\": rssi, \"is_spoofed\": True})\n",
    "\n",
    "    # return the json array\n",
    "    return spoofed_aircraft\n",
    "\n",
    "# Insert 20 Spoofed Aircraft\n",
    "with open('./samples/spoofed/aircraft_spoofed.json', 'w') as json_file:\n",
    "    spoofed_aircraft = generate_spoofed_aircraft(20)\n",
    "    print(\"Spoofed aircraft: \", spoofed_aircraft)\n",
    "    json.dump({\"aircraft\": spoofed_aircraft}, json_file)\n",
    "    print(\"Wrote Spoofed Data into ./samples/spoofed/aircraft_spoofed.json!\")"
   ]
  }
 ],
 "metadata": {
  "kernelspec": {
   "display_name": "Python 3 (ipykernel)",
   "language": "python",
   "name": "python3"
  },
  "language_info": {
   "codemirror_mode": {
    "name": "ipython",
    "version": 3
   },
   "file_extension": ".py",
   "mimetype": "text/x-python",
   "name": "python",
   "nbconvert_exporter": "python",
   "pygments_lexer": "ipython3",
   "version": "3.11.3"
  }
 },
 "nbformat": 4,
 "nbformat_minor": 5
}

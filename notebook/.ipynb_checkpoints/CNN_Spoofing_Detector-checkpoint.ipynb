{
 "cells": [
  {
   "cell_type": "markdown",
   "id": "100c4a65-108e-4a93-aa0f-82a227ad0fe2",
   "metadata": {},
   "source": [
    "# Convolutional Neural Network Model for Detecting Spoofed Aircraft\n",
    "### Purpose: This notebook creates a Convolutional Neural Network capable of detecting spoofed aircraft. It was trained using a training data set of pre-generated spoofed aircraft alongside a dataset of valid ADS-B records. It outputs a binary classification (spoofed or not) for a plane alongside confidence level. "
   ]
  },
  {
   "cell_type": "code",
   "execution_count": 10,
   "id": "2ba366af-a0d0-49f8-9339-12300e70e77a",
   "metadata": {},
   "outputs": [
    {
     "name": "stdout",
     "output_type": "stream",
     "text": [
      "Datasets imported!\n"
     ]
    }
   ],
   "source": [
    "import json\n",
    "import csv\n",
    "import random\n",
    "import string\n",
    "import numpy as np\n",
    "import keras\n",
    "from keras.models import Sequential\n",
    "from keras.utils import to_categorical\n",
    "from keras.layers import Dense, Dropout, Flatten, Conv2D, MaxPooling2D, Dense\n",
    "from sklearn.preprocessing import StandardScaler\n",
    "\n",
    "# Valid data parsing first\n",
    "with open('./samples/valid/aircraft_valid.json') as json_file:\n",
    "    data_valid = json.load(json_file)\n",
    "    \n",
    "# Parse spoofed data\n",
    "with open('./samples/spoofed/aircraft_spoofed.json') as json_file:\n",
    "    data_spoofed = json.load(json_file)\n",
    " \n",
    "aircraft_data_valid = data_valid['aircraft']\n",
    "aircraft_data_spoofed = data_spoofed['aircraft']\n",
    "\n",
    "print(\"Datasets imported!\")"
   ]
  },
  {
   "cell_type": "markdown",
   "id": "8b2beafe-d007-40eb-9427-f903e02dd849",
   "metadata": {},
   "source": [
    "# Process JSON Files Containing Data"
   ]
  },
  {
   "cell_type": "code",
   "execution_count": 11,
   "id": "4a0c93de-f5db-4e91-92b8-8ef0415183a9",
   "metadata": {},
   "outputs": [
    {
     "ename": "ValueError",
     "evalue": "invalid literal for int() with base 10: 'H8NN'",
     "output_type": "error",
     "traceback": [
      "\u001b[0;31m---------------------------------------------------------------------------\u001b[0m",
      "\u001b[0;31mValueError\u001b[0m                                Traceback (most recent call last)",
      "Cell \u001b[0;32mIn[11], line 27\u001b[0m\n\u001b[1;32m     24\u001b[0m     \u001b[38;5;28;01mreturn\u001b[39;00m features, labels\n\u001b[1;32m     26\u001b[0m \u001b[38;5;66;03m# Example usage\u001b[39;00m\n\u001b[0;32m---> 27\u001b[0m x_train, y_train \u001b[38;5;241m=\u001b[39m \u001b[43mprocess_json\u001b[49m\u001b[43m(\u001b[49m\u001b[38;5;124;43m\"\u001b[39;49m\u001b[38;5;124;43m./samples/spoofed/aircraft_spoofed.json\u001b[39;49m\u001b[38;5;124;43m\"\u001b[39;49m\u001b[43m)\u001b[49m\n\u001b[1;32m     28\u001b[0m \u001b[38;5;28mprint\u001b[39m(x_train)\n",
      "Cell \u001b[0;32mIn[11], line 21\u001b[0m, in \u001b[0;36mprocess_json\u001b[0;34m(json_file)\u001b[0m\n\u001b[1;32m     18\u001b[0m features \u001b[38;5;241m=\u001b[39m np\u001b[38;5;241m.\u001b[39mreshape(features, (features\u001b[38;5;241m.\u001b[39mshape[\u001b[38;5;241m0\u001b[39m], \u001b[38;5;241m1\u001b[39m, features\u001b[38;5;241m.\u001b[39mshape[\u001b[38;5;241m1\u001b[39m]))\n\u001b[1;32m     20\u001b[0m \u001b[38;5;66;03m# Convert the labels to categorical format\u001b[39;00m\n\u001b[0;32m---> 21\u001b[0m labels \u001b[38;5;241m=\u001b[39m \u001b[43mto_categorical\u001b[49m\u001b[43m(\u001b[49m\u001b[43mlabels\u001b[49m\u001b[43m)\u001b[49m\n\u001b[1;32m     23\u001b[0m \u001b[38;5;66;03m# Return the processed data\u001b[39;00m\n\u001b[1;32m     24\u001b[0m \u001b[38;5;28;01mreturn\u001b[39;00m features, labels\n",
      "File \u001b[0;32m/usr/local/lib/python3.11/site-packages/keras/src/utils/np_utils.py:62\u001b[0m, in \u001b[0;36mto_categorical\u001b[0;34m(y, num_classes, dtype)\u001b[0m\n\u001b[1;32m     23\u001b[0m \u001b[38;5;129m@keras_export\u001b[39m(\u001b[38;5;124m\"\u001b[39m\u001b[38;5;124mkeras.utils.to_categorical\u001b[39m\u001b[38;5;124m\"\u001b[39m)\n\u001b[1;32m     24\u001b[0m \u001b[38;5;28;01mdef\u001b[39;00m \u001b[38;5;21mto_categorical\u001b[39m(y, num_classes\u001b[38;5;241m=\u001b[39m\u001b[38;5;28;01mNone\u001b[39;00m, dtype\u001b[38;5;241m=\u001b[39m\u001b[38;5;124m\"\u001b[39m\u001b[38;5;124mfloat32\u001b[39m\u001b[38;5;124m\"\u001b[39m):\n\u001b[1;32m     25\u001b[0m \u001b[38;5;250m    \u001b[39m\u001b[38;5;124;03m\"\"\"Converts a class vector (integers) to binary class matrix.\u001b[39;00m\n\u001b[1;32m     26\u001b[0m \n\u001b[1;32m     27\u001b[0m \u001b[38;5;124;03m    E.g. for use with `categorical_crossentropy`.\u001b[39;00m\n\u001b[0;32m   (...)\u001b[0m\n\u001b[1;32m     60\u001b[0m \u001b[38;5;124;03m    [0. 0. 0. 0.]\u001b[39;00m\n\u001b[1;32m     61\u001b[0m \u001b[38;5;124;03m    \"\"\"\u001b[39;00m\n\u001b[0;32m---> 62\u001b[0m     y \u001b[38;5;241m=\u001b[39m \u001b[43mnp\u001b[49m\u001b[38;5;241;43m.\u001b[39;49m\u001b[43marray\u001b[49m\u001b[43m(\u001b[49m\u001b[43my\u001b[49m\u001b[43m,\u001b[49m\u001b[43m \u001b[49m\u001b[43mdtype\u001b[49m\u001b[38;5;241;43m=\u001b[39;49m\u001b[38;5;124;43m\"\u001b[39;49m\u001b[38;5;124;43mint\u001b[39;49m\u001b[38;5;124;43m\"\u001b[39;49m\u001b[43m)\u001b[49m\n\u001b[1;32m     63\u001b[0m     input_shape \u001b[38;5;241m=\u001b[39m y\u001b[38;5;241m.\u001b[39mshape\n\u001b[1;32m     65\u001b[0m     \u001b[38;5;66;03m# Shrink the last dimension if the shape is (..., 1).\u001b[39;00m\n",
      "\u001b[0;31mValueError\u001b[0m: invalid literal for int() with base 10: 'H8NN'"
     ]
    }
   ],
   "source": [
    "def process_json(json_file):\n",
    "    # Load the JSON data\n",
    "    with open(json_file) as f:\n",
    "        data = json.load(f)\n",
    "\n",
    "    # Extract the features and labels from the JSON data\n",
    "    features = []\n",
    "    labels = []\n",
    "    for transmission in data['aircraft']:\n",
    "        features.append([transmission['rssi']])\n",
    "        labels.append(transmission['flight'])\n",
    "    \n",
    "    # Normalize the features using StandardScaler\n",
    "    scaler = StandardScaler()\n",
    "    features = scaler.fit_transform(features)\n",
    "\n",
    "    # Reshape the data to match the input format of the model\n",
    "    features = np.reshape(features, (features.shape[0], 1, features.shape[1]))\n",
    "\n",
    "    # Convert the labels to categorical format\n",
    "    labels = to_categorical(labels)\n",
    "\n",
    "    # Return the processed data\n",
    "    return features, labels\n",
    "\n",
    "# Example usage\n",
    "x_train, y_train = process_json(\"./samples/spoofed/aircraft_spoofed.json\")\n",
    "print(x_train)"
   ]
  },
  {
   "cell_type": "markdown",
   "id": "dd5911ed-90fb-48ab-a154-49bb1e90e070",
   "metadata": {},
   "source": [
    "# Prepare Dataset to be Placed into Neural Network\n",
    "### Split into Training and Testing Sets"
   ]
  },
  {
   "cell_type": "code",
   "execution_count": null,
   "id": "dc839668-4386-4050-a99a-fa0bcd033832",
   "metadata": {},
   "outputs": [],
   "source": [
    "# CNN Architecture\n",
    "model = Sequential()\n",
    "model.add(Conv2D(32, kernel_size=(3, 3), activation='relu', input_shape=(28, 28, 1)))\n",
    "model.add(MaxPooling2D(pool_size=(2, 2)))\n",
    "model.add(Conv2D(64, kernel_size=(3, 3), activation='relu'))\n",
    "model.add(MaxPooling2D(pool_size=(2, 2)))\n",
    "model.add(Flatten())\n",
    "model.add(Dense(128, activation='relu'))\n",
    "model.add(Dropout(0.5))\n",
    "model.add(Dense(2, activation='softmax'))\n",
    "\n",
    "# Compile the model\n",
    "model.compile(loss='categorical_crossentropy', optimizer='adam', metrics=['accuracy'])\n",
    "\n",
    "# Train the model on the training data\n",
    "model.fit(x_train, y_train, epochs=10, batch_size=32)\n",
    "\n",
    "# Evaluate the model on the test data\n",
    "test_loss, test_acc = model.evaluate(x_test, y_test)\n",
    "print('Test accuracy:', test_acc)\n",
    "\n",
    "# Use the model to classify new ADSB data\n",
    "predictions = model.predict(x_new)"
   ]
  },
  {
   "cell_type": "markdown",
   "id": "c90315f5-be2e-4b5a-a13d-ab956d4ebd29",
   "metadata": {},
   "source": [
    "# Model Accuracy"
   ]
  },
  {
   "cell_type": "code",
   "execution_count": null,
   "id": "ee9d0663-3552-4536-b25c-41c8ae380dd6",
   "metadata": {},
   "outputs": [],
   "source": [
    "import matplotlib.pyplot as plt\n",
    "import numpy as np\n",
    "\n",
    "# Generate dummy data for the accuracy curve\n",
    "accuracy = np.linspace(0.5, 0.925, num=100)\n",
    "epochs = np.linspace(1, 100, num=100)\n",
    "\n",
    "# Generate dummy data for additional metrics\n",
    "precision = np.random.uniform(low=0.8, high=0.95, size=100)\n",
    "recall = np.random.uniform(low=0.7, high=0.9, size=100)\n",
    "f1_score = np.random.uniform(low=0.75, high=0.925, size=100)\n",
    "\n",
    "# Plot the accuracy curve\n",
    "plt.plot(epochs, accuracy, label=\"Accuracy\")\n",
    "\n",
    "# Plot additional metrics on the same graph\n",
    "plt.plot(epochs, precision, label=\"Precision\")\n",
    "plt.plot(epochs, recall, label=\"Recall\")\n",
    "plt.plot(epochs, f1_score, label=\"F1 Score\")\n",
    "\n",
    "# Add axis labels and a legend\n",
    "plt.xlabel(\"Epochs\")\n",
    "plt.ylabel(\"Score\")\n",
    "plt.legend()\n",
    "\n",
    "# Show the graph\n",
    "plt.show()"
   ]
  },
  {
   "cell_type": "markdown",
   "id": "7493bd3c-b1da-4219-bb79-c56dbed879e5",
   "metadata": {},
   "source": [
    "# References and Resources\n",
    "#### [Reference dump1090 README](https://github.com/SDRplay/dump1090/blob/master/README-json.md)\n",
    "#### [Data Samples from ADSB Exchange](https://www.adsbexchange.com/data-samples/)\n",
    "#### [2022 Data Sample from ADSB Exchange](https://samples.adsbexchange.com/readsb-hist/2022/05/01/)\n",
    "#### [ADSB Exchange API](https://www.adsbexchange.com/version-2-api-wip/)\n",
    "#### [Raspberry Pi & FlightAware Setup](https://elmwoodelectronics.ca/blogs/news/tracking-and-logging-flights-with-ads-b-flight-aware-and-raspberry-pi)\n",
    "#### [IEEE Research on ADS-B Signals](https://ieeexplore.ieee.org/document/9377975)"
   ]
  }
 ],
 "metadata": {
  "kernelspec": {
   "display_name": "Python 3 (ipykernel)",
   "language": "python",
   "name": "python3"
  },
  "language_info": {
   "codemirror_mode": {
    "name": "ipython",
    "version": 3
   },
   "file_extension": ".py",
   "mimetype": "text/x-python",
   "name": "python",
   "nbconvert_exporter": "python",
   "pygments_lexer": "ipython3",
   "version": "3.11.3"
  }
 },
 "nbformat": 4,
 "nbformat_minor": 5
}

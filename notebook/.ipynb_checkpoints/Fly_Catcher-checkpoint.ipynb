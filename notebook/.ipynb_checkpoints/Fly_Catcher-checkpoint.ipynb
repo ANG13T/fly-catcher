{
 "cells": [
  {
   "cell_type": "markdown",
   "id": "afc68e5f-f42c-47be-aca6-ba43a36575c9",
   "metadata": {},
   "source": [
    "# ADS-B Spoof Detector \n",
    "#### Created by Angelina Tsuboi"
   ]
  },
  {
   "cell_type": "markdown",
   "id": "b96ccf18-17c7-4b2b-b7d4-540323133361",
   "metadata": {},
   "source": [
    "# Step #1: Parse through JSON Flight Log File and Select a Plane"
   ]
  },
  {
   "cell_type": "code",
   "execution_count": 23,
   "id": "b949ca71-b331-4200-8813-bc3e2c10144a",
   "metadata": {},
   "outputs": [
    {
     "name": "stdout",
     "output_type": "stream",
     "text": [
      "🛫 Detected 20 planes!\n",
      "Plane #1: 845f9f - 1 records\n",
      "Plane #2: 86d624 - 1 records\n",
      "Plane #3: a835c5 - 1 records\n",
      "Plane #4: 4d0104 - 1 records\n",
      "Plane #5: 86e4da - 1 records\n",
      "Plane #6: 71c083 - 1 records\n",
      "Plane #7: 76cdb9 - 1 records\n",
      "Plane #8: 7c1479 - 1 records\n",
      "Plane #9: 86ebb6 - 1 records\n",
      "Plane #10: abba6c - 1 records\n",
      "Plane #11: 7c531d - 1 records\n",
      "Plane #12: ab271f - 1 records\n",
      "Plane #13: 8694fa - 1 records\n",
      "Plane #14: ADCF46 - 1 records\n",
      "Plane #15: B49A8B - 1 records\n",
      "Plane #16: B96D38 - 1 records\n",
      "Plane #17: E63452 - 1 records\n",
      "Plane #18: B9FE57 - 1 records\n",
      "Plane #19: 8F79E5 - 1 records\n",
      "Plane #20: B0BB00 - 1 records\n"
     ]
    }
   ],
   "source": [
    "import json\n",
    "\n",
    "# Enter Flight Log JSON from Fly Catcher BELOW\n",
    "selected_file = \"./samples/testing/sample.json\" \n",
    "\n",
    "file = open(selected_file)\n",
    "json_contents = json.load(file)\n",
    "aircraft = json_contents[\"aircraft\"]\n",
    "\n",
    "planes = []\n",
    "\n",
    "class PlaneLog:\n",
    "    def __init__(self, hex):\n",
    "        self.hex = hex\n",
    "        self.planes = []\n",
    "    def add_plane(self, plane_record):\n",
    "        self.planes.append(plane_record)\n",
    "\n",
    "for record in aircraft:\n",
    "    # print(record)\n",
    "    matched_plane = False\n",
    "    for plane in planes:\n",
    "        if plane.hex == record[\"hex\"]:\n",
    "            plane.add_plane(record)\n",
    "            matched_plane = True\n",
    "    if matched_plane == False:\n",
    "        new_plane = PlaneLog(record[\"hex\"])\n",
    "        new_plane.add_plane(record)\n",
    "        planes.append(new_plane)\n",
    "            \n",
    "file.close()\n",
    "\n",
    "print(f\"🛫 Detected {len(planes)} planes!\")\n",
    "for i, plane in enumerate(planes):\n",
    "    print(f\"Plane #{i + 1}: {plane.hex} - {len(plane.planes)} records\")"
   ]
  },
  {
   "cell_type": "markdown",
   "id": "f3617aed-836e-4c96-a609-57ab331eeede",
   "metadata": {},
   "source": [
    "# Step 2: Select Plane by ICAO and Analyze Records using CNN Model"
   ]
  },
  {
   "cell_type": "markdown",
   "id": "5981d3ef-0b4e-47c3-8d12-d5984508a0d8",
   "metadata": {},
   "source": [
    "# Step 3: Show Details and Location of spoofed aircraft with Folium"
   ]
  }
 ],
 "metadata": {
  "kernelspec": {
   "display_name": "Python 3 (ipykernel)",
   "language": "python",
   "name": "python3"
  },
  "language_info": {
   "codemirror_mode": {
    "name": "ipython",
    "version": 3
   },
   "file_extension": ".py",
   "mimetype": "text/x-python",
   "name": "python",
   "nbconvert_exporter": "python",
   "pygments_lexer": "ipython3",
   "version": "3.11.3"
  }
 },
 "nbformat": 4,
 "nbformat_minor": 5
}

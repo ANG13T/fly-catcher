{
 "cells": [
  {
   "cell_type": "markdown",
   "id": "afc68e5f-f42c-47be-aca6-ba43a36575c9",
   "metadata": {},
   "source": [
    "<p align=\"center\">\n",
    "  <img width=\"200\" src=\"https://github.com/ANG13T/fly-catcher/blob/main/assets/logo.png\" alt=\"Fly Catcher logo\" />\n",
    "</p>\n",
    "<h1 align=\"center\" style=\"font-size:50px !important;\">Fly Catcher</h1>\n",
    "<p align=\"center\">\n",
    "  <i>Fly Catcher monitors for malicious ADS-B signals in the 1090MHz frequency to detect for aircraft spoofing</i>\n",
    "   <br/><br/>\n",
    "  <b><a href=\"#features-️\">Learn More</a></b> | <b><a href=\"#build-it-yourself-️\">Build Guide</a></b> | <b><a href=\"#detecting-for-spoofing-\">Article</a></b> | <b><a href=\"#watch-it-in-action-\">Video</a></b> | <b><a href=\"https://github.com/ANG13T/fly-catcher/blob/main/assets/project_report.pdf\">Research Paper</a></b>\n",
    "  <br/><br/>\n",
    "</p>\n",
    "<p align=\"center\">\n",
    "\n",
    "#### Created by Angelina Tsuboi"
   ]
  },
  {
   "cell_type": "markdown",
   "id": "b96ccf18-17c7-4b2b-b7d4-540323133361",
   "metadata": {},
   "source": [
    "# Step #1: Parse through JSON Flight Log File"
   ]
  },
  {
   "cell_type": "code",
   "execution_count": 22,
   "id": "b949ca71-b331-4200-8813-bc3e2c10144a",
   "metadata": {},
   "outputs": [
    {
     "name": "stdout",
     "output_type": "stream",
     "text": [
      "🛫 Detected 20 planes!\n",
      "Plane #1: 845f9f - 1 records\n",
      "Plane #2: 86d624 - 1 records\n",
      "Plane #3: a835c5 - 1 records\n",
      "Plane #4: 4d0104 - 1 records\n",
      "Plane #5: 86e4da - 1 records\n",
      "Plane #6: 71c083 - 1 records\n",
      "Plane #7: 76cdb9 - 1 records\n",
      "Plane #8: 7c1479 - 1 records\n",
      "Plane #9: 86ebb6 - 1 records\n",
      "Plane #10: abba6c - 1 records\n",
      "Plane #11: 7c531d - 1 records\n",
      "Plane #12: ab271f - 1 records\n",
      "Plane #13: 8694fa - 1 records\n",
      "Plane #14: ADCF46 - 1 records\n",
      "Plane #15: B49A8B - 1 records\n",
      "Plane #16: B96D38 - 1 records\n",
      "Plane #17: E63452 - 1 records\n",
      "Plane #18: B9FE57 - 1 records\n",
      "Plane #19: 8F79E5 - 1 records\n",
      "Plane #20: B0BB00 - 1 records\n"
     ]
    }
   ],
   "source": [
    "import json\n",
    "import tensorflow as tf\n",
    "from sklearn.preprocessing import StandardScaler\n",
    "import numpy as np\n",
    "\n",
    "# Enter Flight Log JSON from Fly Catcher BELOW\n",
    "selected_file = \"./samples/testing/sample.json\" \n",
    "\n",
    "file = open(selected_file)\n",
    "json_contents = json.load(file)\n",
    "aircraft = json_contents[\"aircraft\"]\n",
    "\n",
    "planes = []\n",
    "\n",
    "class PlaneLog:\n",
    "    def __init__(self, hex):\n",
    "        self.hex = hex\n",
    "        self.planes = []\n",
    "    def add_plane(self, plane_record):\n",
    "        self.planes.append(plane_record)\n",
    "\n",
    "for record in aircraft:\n",
    "    matched_plane = False\n",
    "    for plane in planes:\n",
    "        if plane.hex == record[\"hex\"]:\n",
    "            plane.add_plane(record)\n",
    "            matched_plane = True\n",
    "    if matched_plane == False:\n",
    "        new_plane = PlaneLog(record[\"hex\"])\n",
    "        new_plane.add_plane(record)\n",
    "        planes.append(new_plane)\n",
    "            \n",
    "file.close()\n",
    "\n",
    "print(f\"🛫 Detected {len(planes)} planes!\")\n",
    "for i, plane in enumerate(planes):\n",
    "    print(f\"Plane #{i + 1}: {plane.hex} - {len(plane.planes)} records\")\n",
    "\n",
    "def find_plane(hex):\n",
    "    for plane in planes:\n",
    "        if plane.hex == hex:\n",
    "            return plane"
   ]
  },
  {
   "cell_type": "markdown",
   "id": "f3617aed-836e-4c96-a609-57ab331eeede",
   "metadata": {},
   "source": [
    "# Step 2: Load the CNN Model"
   ]
  },
  {
   "cell_type": "code",
   "execution_count": 20,
   "id": "2648f98a-7938-4f3a-ae7b-bb833ab6b1d9",
   "metadata": {},
   "outputs": [],
   "source": [
    "model = tf.keras.models.load_model(\"Spoof_Detection.h5\")\n",
    "\n",
    "def predict_adsb_data(adsb_message):\n",
    "    try:\n",
    "        feature_vector = [\n",
    "            float(adsb_message.get('alt_baro', 0)),\n",
    "            float(adsb_message.get('gs', 0)),\n",
    "            float(adsb_message.get('track', 0)),\n",
    "            float(adsb_message.get('baro_rate', 0)),\n",
    "            float(adsb_message.get('lat', 0)),\n",
    "            float(adsb_message.get('lon', 0)),\n",
    "            float(adsb_message.get('seen_pos', 0)),\n",
    "            float(adsb_message.get('messages', 0)),\n",
    "            float(adsb_message.get('seen', 0)),\n",
    "            float(adsb_message.get('rssi', 0)),\n",
    "        ]\n",
    "    except ValueError as e:\n",
    "        print(f\"Error processing ADS-B message: {adsb_message}, Field: {e}\")\n",
    "        return None\n",
    "\n",
    "    scaler = StandardScaler()\n",
    "    features_scaled = scaler.fit_transform([feature_vector])\n",
    "\n",
    "    prediction = model.predict(np.array(features_scaled))\n",
    "    return int(round(prediction[0][0]))"
   ]
  },
  {
   "cell_type": "markdown",
   "id": "5981d3ef-0b4e-47c3-8d12-d5984508a0d8",
   "metadata": {},
   "source": [
    "# Step 3: Select an Aircraft"
   ]
  },
  {
   "cell_type": "code",
   "execution_count": 10,
   "id": "a86db2a9-e7b5-42cc-becf-f4af89a87118",
   "metadata": {},
   "outputs": [
    {
     "name": "stdout",
     "output_type": "stream",
     "text": [
      "✈️ Plane 845f9f selected!\n"
     ]
    }
   ],
   "source": [
    "selected_aircraft = \"845f9f\" # Enter ICAO Designator\n",
    "aircraft_data = find_plane(selected_aircraft)\n",
    "\n",
    "if aircraft_data == None: \n",
    "    print(\"Aircraft not found! Please select a ICAO Designator listed in the first section.\")\n",
    "else:\n",
    "    print(f\"✈️ Plane {selected_aircraft} selected!\")"
   ]
  },
  {
   "cell_type": "markdown",
   "id": "36054863-4c62-4506-9c62-0caeb33201e4",
   "metadata": {},
   "source": [
    "# Step 4: Show Results of CNN and Details of Aircraft"
   ]
  },
  {
   "cell_type": "code",
   "execution_count": 49,
   "id": "9714a09e-1ea8-42f4-8a45-d84f5fdbd892",
   "metadata": {},
   "outputs": [
    {
     "name": "stdout",
     "output_type": "stream",
     "text": [
      "1/1 [==============================] - 0s 60ms/step\n",
      "Not Spoofed --- 0% prediction of being spoofed\n",
      "\n",
      "            Aircraft Details\n",
      "=========================================\n",
      "Hex (24-bit ICAO identifier): 845f9f\n",
      "Data Source: adsc\n",
      "Flight Callsign: KZ51    \n",
      "Aircraft Registration: JA11KZ\n",
      "Aircraft Type: B748\n",
      "Aircraft Barometric Altitude (feet): 31996\n",
      "Ground Speed (knots): 487.0\n",
      "True Track (degrees): 244.0\n",
      "Rate of Change of Barometric Altitude (feet/minute): 48\n",
      "Latitude: 57.32872\n",
      "Longitude: -177.562752\n",
      "Updated Time Ago (seconds): 873.399\n",
      "Total # of Mode S Messages: 4420465\n",
      "Last Timing Message (seconds): 803.5\n",
      "Signal Power (dbFs): -29.2\n"
     ]
    }
   ],
   "source": [
    "results = predict_adsb_data(aircraft_data.planes[0])\n",
    "text = (\"Spoofed\" if results > 0.5 else \"Not Spoofed\")\n",
    "percentage = results * 100\n",
    "print(f\"{text} --- {percentage}% prediction of being spoofed\")\n",
    "\n",
    "plane_values = [{\"key\": \"hex\", \"value\": \"Hex (24-bit ICAO identifier)\"}, {\"key\": \"type\", \"value\": \"Data Source\"}, {\"key\": \"flight\", \"value\": \"Flight Callsign\"}, {\"key\": \"r\", \"value\": \"Aircraft Registration\"}, {\"key\": \"t\", \"value\": \"Aircraft Type\"}, {\"key\": \"alt_baro\", \"value\": \"Aircraft Barometric Altitude (feet)\"}, {\"key\": \"gs\", \"value\": \"Ground Speed (knots)\"}, {\"key\": \"track\", \"value\": \"True Track (degrees)\"}, {\"key\": \"baro_rate\", \"value\": \"Rate of Change of Barometric Altitude (feet/minute)\"}, {\"key\": \"lat\", \"value\": \"Latitude\"}, {\"key\": \"lon\", \"value\": \"Longitude\"}, {\"key\": \"seen_pos\", \"value\": \"Updated Time Ago (seconds)\"}, {\"key\": \"messages\", \"value\": \"Total # of Mode S Messages\"}, {\"key\": \"seen\", \"value\": \"Last Timing Message (seconds)\"}, {\"key\": \"rssi\", \"value\": \"Signal Power (dbFs)\"}]\n",
    "\n",
    "def find_value(id):\n",
    "    for x in plane_values:\n",
    "        if x[\"key\"] == id:\n",
    "            return x\n",
    "\n",
    "print(\"\\n            Aircraft Details\")\n",
    "print(\"=========================================\")\n",
    "plane_data = aircraft_data.planes[0]\n",
    "\n",
    "for i in plane_data:\n",
    "    val = find_value(i)\n",
    "    if val != None:\n",
    "        val_data = val.get(\"value\")\n",
    "        print(f\"{val_data}: {plane_data[i]}\")"
   ]
  },
  {
   "cell_type": "markdown",
   "id": "c82de97b-d834-471c-b0b3-e9ea1f7f7618",
   "metadata": {},
   "source": [
    "# Step 5: Display Aircraft on Map using Folium"
   ]
  },
  {
   "cell_type": "code",
   "execution_count": 54,
   "id": "d5f20a8d-c195-4ee7-93c1-af51e6b2151a",
   "metadata": {},
   "outputs": [
    {
     "data": {
      "text/html": [
       "<div style=\"width:100%;\"><div style=\"position:relative;width:100%;height:0;padding-bottom:60%;\"><span style=\"color:#565656\">Make this Notebook Trusted to load map: File -> Trust Notebook</span><iframe srcdoc=\"&lt;!DOCTYPE html&gt;\n",
       "&lt;html&gt;\n",
       "&lt;head&gt;\n",
       "    \n",
       "    &lt;meta http-equiv=&quot;content-type&quot; content=&quot;text/html; charset=UTF-8&quot; /&gt;\n",
       "    \n",
       "        &lt;script&gt;\n",
       "            L_NO_TOUCH = false;\n",
       "            L_DISABLE_3D = false;\n",
       "        &lt;/script&gt;\n",
       "    \n",
       "    &lt;style&gt;html, body {width: 100%;height: 100%;margin: 0;padding: 0;}&lt;/style&gt;\n",
       "    &lt;style&gt;#map {position:absolute;top:0;bottom:0;right:0;left:0;}&lt;/style&gt;\n",
       "    &lt;script src=&quot;https://cdn.jsdelivr.net/npm/leaflet@1.9.3/dist/leaflet.js&quot;&gt;&lt;/script&gt;\n",
       "    &lt;script src=&quot;https://code.jquery.com/jquery-3.7.1.min.js&quot;&gt;&lt;/script&gt;\n",
       "    &lt;script src=&quot;https://cdn.jsdelivr.net/npm/bootstrap@5.2.2/dist/js/bootstrap.bundle.min.js&quot;&gt;&lt;/script&gt;\n",
       "    &lt;script src=&quot;https://cdnjs.cloudflare.com/ajax/libs/Leaflet.awesome-markers/2.0.2/leaflet.awesome-markers.js&quot;&gt;&lt;/script&gt;\n",
       "    &lt;link rel=&quot;stylesheet&quot; href=&quot;https://cdn.jsdelivr.net/npm/leaflet@1.9.3/dist/leaflet.css&quot;/&gt;\n",
       "    &lt;link rel=&quot;stylesheet&quot; href=&quot;https://cdn.jsdelivr.net/npm/bootstrap@5.2.2/dist/css/bootstrap.min.css&quot;/&gt;\n",
       "    &lt;link rel=&quot;stylesheet&quot; href=&quot;https://netdna.bootstrapcdn.com/bootstrap/3.0.0/css/bootstrap.min.css&quot;/&gt;\n",
       "    &lt;link rel=&quot;stylesheet&quot; href=&quot;https://cdn.jsdelivr.net/npm/@fortawesome/fontawesome-free@6.2.0/css/all.min.css&quot;/&gt;\n",
       "    &lt;link rel=&quot;stylesheet&quot; href=&quot;https://cdnjs.cloudflare.com/ajax/libs/Leaflet.awesome-markers/2.0.2/leaflet.awesome-markers.css&quot;/&gt;\n",
       "    &lt;link rel=&quot;stylesheet&quot; href=&quot;https://cdn.jsdelivr.net/gh/python-visualization/folium/folium/templates/leaflet.awesome.rotate.min.css&quot;/&gt;\n",
       "    \n",
       "            &lt;meta name=&quot;viewport&quot; content=&quot;width=device-width,\n",
       "                initial-scale=1.0, maximum-scale=1.0, user-scalable=no&quot; /&gt;\n",
       "            &lt;style&gt;\n",
       "                #map_ee20e6e4358c5c7f9e9ff71079d78dae {\n",
       "                    position: relative;\n",
       "                    width: 100.0%;\n",
       "                    height: 100.0%;\n",
       "                    left: 0.0%;\n",
       "                    top: 0.0%;\n",
       "                }\n",
       "                .leaflet-container { font-size: 1rem; }\n",
       "            &lt;/style&gt;\n",
       "        \n",
       "&lt;/head&gt;\n",
       "&lt;body&gt;\n",
       "    \n",
       "    \n",
       "            &lt;div class=&quot;folium-map&quot; id=&quot;map_ee20e6e4358c5c7f9e9ff71079d78dae&quot; &gt;&lt;/div&gt;\n",
       "        \n",
       "&lt;/body&gt;\n",
       "&lt;script&gt;\n",
       "    \n",
       "    \n",
       "            var map_ee20e6e4358c5c7f9e9ff71079d78dae = L.map(\n",
       "                &quot;map_ee20e6e4358c5c7f9e9ff71079d78dae&quot;,\n",
       "                {\n",
       "                    center: [57.32872, -177.562752],\n",
       "                    crs: L.CRS.EPSG3857,\n",
       "                    zoom: 3,\n",
       "                    zoomControl: true,\n",
       "                    preferCanvas: false,\n",
       "                }\n",
       "            );\n",
       "\n",
       "            \n",
       "\n",
       "        \n",
       "    \n",
       "            var tile_layer_69f1158e44ec98257612dddc83b4552f = L.tileLayer(\n",
       "                &quot;https://{s}.tile.openstreetmap.org/{z}/{x}/{y}.png&quot;,\n",
       "                {&quot;attribution&quot;: &quot;Data by \\u0026copy; \\u003ca target=\\&quot;_blank\\&quot; href=\\&quot;http://openstreetmap.org\\&quot;\\u003eOpenStreetMap\\u003c/a\\u003e, under \\u003ca target=\\&quot;_blank\\&quot; href=\\&quot;http://www.openstreetmap.org/copyright\\&quot;\\u003eODbL\\u003c/a\\u003e.&quot;, &quot;detectRetina&quot;: false, &quot;maxNativeZoom&quot;: 18, &quot;maxZoom&quot;: 18, &quot;minZoom&quot;: 0, &quot;noWrap&quot;: false, &quot;opacity&quot;: 1, &quot;subdomains&quot;: &quot;abc&quot;, &quot;tms&quot;: false}\n",
       "            );\n",
       "        \n",
       "    \n",
       "                tile_layer_69f1158e44ec98257612dddc83b4552f.addTo(map_ee20e6e4358c5c7f9e9ff71079d78dae);\n",
       "    \n",
       "            var marker_5868e29876d0013ea08b8c990aa03019 = L.marker(\n",
       "                [57.32872, -177.562752],\n",
       "                {}\n",
       "            ).addTo(map_ee20e6e4358c5c7f9e9ff71079d78dae);\n",
       "        \n",
       "&lt;/script&gt;\n",
       "&lt;/html&gt;\" style=\"position:absolute;width:100%;height:100%;left:0;top:0;border:none !important;\" allowfullscreen webkitallowfullscreen mozallowfullscreen></iframe></div></div>"
      ],
      "text/plain": [
       "<folium.folium.Map at 0x15b702c50>"
      ]
     },
     "metadata": {},
     "output_type": "display_data"
    }
   ],
   "source": [
    "import folium\n",
    "from IPython.display import display\n",
    "plane_coordinates = (plane_data[\"lat\"], plane_data[\"lon\"])\n",
    "m = folium.Map(location = plane_coordinates, tiles ='OpenStreetMap', zoom_start=3)\n",
    "folium.Marker(location = plane_coordinates).add_to(m)\n",
    "display(m)"
   ]
  },
  {
   "cell_type": "markdown",
   "id": "00d25a80-1e3f-45d0-889b-3b9a825e4c9f",
   "metadata": {},
   "source": [
    "# Thank you so much for trying Fly Catcher!\n",
    "\n",
    "### To support my work, you can sponsor me on [GitHub](github.com/ANG13T)\n",
    "### Check out my other socials!\n",
    "- Website: [angelinatsuboi.com](angelinatsuboi.com)\n",
    "- Instagram: [@angelina_tsuboi](https://instagram.com/angelina_tsuboi)\n",
    "- Twitter: [@AngelinaTsuboi](https://twitter.com/AngelinaTsuboi)\n",
    "- GitHub: [@ANG13T](github.com/ANG13T)\n",
    "- Linkedin:[https://www.linkedin.com/in/angelina-tsuboi-322028211/](https://www.linkedin.com/in/angelina-tsuboi-322028211/)\n",
    "- YouTube: [@AngelinaTsuboi](https://www.youtube.com/@AngelinaTsuboi)"
   ]
  }
 ],
 "metadata": {
  "kernelspec": {
   "display_name": "Python 3 (ipykernel)",
   "language": "python",
   "name": "python3"
  },
  "language_info": {
   "codemirror_mode": {
    "name": "ipython",
    "version": 3
   },
   "file_extension": ".py",
   "mimetype": "text/x-python",
   "name": "python",
   "nbconvert_exporter": "python",
   "pygments_lexer": "ipython3",
   "version": "3.11.3"
  }
 },
 "nbformat": 4,
 "nbformat_minor": 5
}
